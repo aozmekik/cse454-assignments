{
 "cells": [
  {
   "cell_type": "markdown",
   "metadata": {},
   "source": [
    "## Preprocessing\n",
    "\n",
    "At this stage, first of all, wrapper functions of multiple different stemming algorithms were written for the data we have.\n",
    "\n",
    "Before a preprocess operation, separators, operators, punctuations and non-printable characters were removed. Then on the basis of being optional, a normalization can be performed with or without a stop count, or with a different stemming type option.\n",
    "\n",
    "As a matter of fact, at the last stage, we will compare the result with different parameters in this way."
   ]
  },
  {
   "cell_type": "code",
   "execution_count": 1,
   "metadata": {},
   "outputs": [],
   "source": [
    "import re\n",
    "from trstop import trstop\n",
    "import string\n",
    "from typing import List\n",
    "from jpype import JClass, JString, getDefaultJVMPath, shutdownJVM, startJVM, java\n",
    "from examples import DATA_PATH\n",
    "from pathlib import Path\n",
    "\n",
    "ZEMBEREK_PATH = r'zemberek-full.jar'\n",
    "\n",
    "startJVM(getDefaultJVMPath(), '-ea',\n",
    "         '-Djava.class.path=%s' % (ZEMBEREK_PATH))\n",
    "\n",
    "TurkishMorphology: JClass = JClass('zemberek.morphology.TurkishMorphology')\n",
    "TurkishSentenceNormalizer: JClass = JClass(\n",
    "    'zemberek.normalization.TurkishSentenceNormalizer'\n",
    ")\n",
    "\n",
    "\n",
    "Paths: JClass = JClass('java.nio.file.Paths')\n",
    "\n",
    "\n",
    "def stem(text: str) -> str:\n",
    "    morphology = TurkishMorphology.createWithDefaults()\n",
    "\n",
    "    analysis: java.util.ArrayList = (\n",
    "        morphology.analyzeAndDisambiguate(text).bestAnalysis()\n",
    "    )\n",
    "\n",
    "    pos: List[str] = []\n",
    "    for i, analysis in enumerate(analysis, start=1):\n",
    "        pos.append(\n",
    "            f'{str(analysis.getLemmas()[0])}'\n",
    "        )\n",
    "    return ' '.join(pos)\n",
    "\n",
    "\n",
    "def normalize(text: str) -> str:\n",
    "\n",
    "    normalizer = TurkishSentenceNormalizer(\n",
    "        TurkishMorphology.createWithDefaults(),\n",
    "        Paths.get(str(DATA_PATH.joinpath('normalization'))),\n",
    "        Paths.get(str(DATA_PATH.joinpath('lm', 'lm.2gram.slm'))),\n",
    "    )\n",
    "\n",
    "    return normalizer.normalize(JString(text))\n",
    "\n",
    "\n",
    "def fps(text: str, n) -> str:\n",
    "    return ' '.join([w[: n] for w in text.split()])\n",
    "\n",
    "\n",
    "def preprocess(x, stemming=None):\n",
    "    x = x.strip()\n",
    "    x = normalize(x)\n",
    "    x = remove_punctuation(x)\n",
    "    x = tokenize(x)\n",
    "    x = remove_stopwords(x)\n",
    "    if stemming == 'zemberek':\n",
    "        x = tokenize(stem(' '.join(x)))\n",
    "    elif stemming == 'fps5':\n",
    "        x = tokenize(fps(' '.join(x), 5))\n",
    "    elif stemming == 'fps7':\n",
    "        x = tokenize(fps(' '.join(x), 7))\n",
    "\n",
    "    return x\n",
    "\n",
    "\n",
    "def remove_punctuation(x):\n",
    "    return ''.join([w for w in x if w not in string.punctuation])\n",
    "\n",
    "\n",
    "def tokenize(x):\n",
    "    return re.split(r'\\W+', x)\n",
    "\n",
    "\n",
    "def remove_stopwords(x):\n",
    "    return [w for w in x if not trstop.is_stop_word(w)]\n"
   ]
  },
  {
   "cell_type": "markdown",
   "metadata": {},
   "source": [
    "## Example for Preprocessing"
   ]
  },
  {
   "cell_type": "code",
   "execution_count": 3,
   "metadata": {},
   "outputs": [
    {
     "data": {
      "text/plain": [
       "'\\ufeff \\n\\t\\t\\t\\t\\t\\t\\t\\n\\t\\t\\t\\t\\t\\t\\t\\n\\t\\t\\t\\t\\t\\t\\t\\t\\t\\t\\t\\t\\n\\t\\t\\t\\t\\t\\t HGS İhlalli Geçiş Bilgileri Sorgulama Hizmeti ile ihlalli geçişlerin olup olmadığının sorgulanacağının belirtildiği açıklamada, \"İhlalli geçişleri var ise son 5 tanesini ve ihlalli geçiş ücretleriyle ihlal ceza tutarlarını görebilmektedir.   Bu hizmetle HGS kullanıcılarının geçiş tarihinden itibaren 15 günlük yasal süresi içinde varsa ihlallerini görerek yeterli bakiyeyi yatırması ve geçişlerin cezaya girmesinin önlenmesi amaçlanmaktadır\" ifadesi kullanıldı. \\t\\t\\t\\t\\t\\t\\t\\n\\t\\t\\t\\t\\t\\t\\n\\t\\t\\t\\t\\t\\t\\t\\n\\t\\t\\t\\t\\t\\t\\n\\t\\t\\t\\t\\t\\t\\n\\t\\t\\t\\t\\t\\t\\t'"
      ]
     },
     "execution_count": 3,
     "metadata": {},
     "output_type": "execute_result"
    }
   ],
   "source": [
    "file_name = 'TTC-3600/TTC-3600_Orj/ekonomi/c (1).txt'\n",
    "\n",
    "with open(file_name) as file:\n",
    "    text = file.read()\n",
    "\n",
    "\n",
    "text"
   ]
  },
  {
   "cell_type": "code",
   "execution_count": 4,
   "metadata": {},
   "outputs": [
    {
     "data": {
      "text/plain": [
       "['',\n",
       " 'hgs',\n",
       " 'ihlalli',\n",
       " 'ihlali',\n",
       " 'geçişlerin',\n",
       " 'sorgulanacağının',\n",
       " 'belirtildiği',\n",
       " 'ihlali',\n",
       " 'geçişleri',\n",
       " '5',\n",
       " 'tanesini',\n",
       " 'ihlali',\n",
       " 'ücretleriyle',\n",
       " 'tutarlarını',\n",
       " 'görebilmektedir',\n",
       " 'hizmetle',\n",
       " 'hgs',\n",
       " 'kullanıcılarının',\n",
       " '15',\n",
       " 'ihlallerini',\n",
       " 'bakiyeyi',\n",
       " 'yatırması',\n",
       " 'geçişlerin',\n",
       " 'cezaya',\n",
       " 'girmesinin',\n",
       " 'önlenmesi',\n",
       " 'amaçlanmaktadır',\n",
       " '']"
      ]
     },
     "execution_count": 4,
     "metadata": {},
     "output_type": "execute_result"
    }
   ],
   "source": [
    "preprocess(text)"
   ]
  },
  {
   "cell_type": "code",
   "execution_count": 5,
   "metadata": {},
   "outputs": [
    {
     "data": {
      "text/plain": [
       "['hgs',\n",
       " 'ihlal',\n",
       " 'ihlal',\n",
       " 'geç',\n",
       " 'sorgula',\n",
       " 'belir',\n",
       " 'ihlal',\n",
       " 'geç',\n",
       " '5',\n",
       " 'tane',\n",
       " 'ihlal',\n",
       " 'ücret',\n",
       " 'tutar',\n",
       " 'gör',\n",
       " 'hizmet',\n",
       " 'hgs',\n",
       " 'kullan',\n",
       " '15',\n",
       " 'ihlal',\n",
       " 'bakiye',\n",
       " 'yatır',\n",
       " 'geç',\n",
       " 'ceza',\n",
       " 'gir',\n",
       " 'önle',\n",
       " 'amaçla']"
      ]
     },
     "execution_count": 5,
     "metadata": {},
     "output_type": "execute_result"
    }
   ],
   "source": [
    "preprocess(text, stemming='zemberek')"
   ]
  },
  {
   "cell_type": "code",
   "execution_count": 6,
   "metadata": {},
   "outputs": [
    {
     "data": {
      "text/plain": [
       "['hgs',\n",
       " 'ihlal',\n",
       " 'ihlal',\n",
       " 'geçiş',\n",
       " 'sorgu',\n",
       " 'belir',\n",
       " 'ihlal',\n",
       " 'geçiş',\n",
       " '5',\n",
       " 'tanes',\n",
       " 'ihlal',\n",
       " 'ücret',\n",
       " 'tutar',\n",
       " 'göreb',\n",
       " 'hizme',\n",
       " 'hgs',\n",
       " 'kulla',\n",
       " '15',\n",
       " 'ihlal',\n",
       " 'bakiy',\n",
       " 'yatır',\n",
       " 'geçiş',\n",
       " 'cezay',\n",
       " 'girme',\n",
       " 'önlen',\n",
       " 'amaçl']"
      ]
     },
     "execution_count": 6,
     "metadata": {},
     "output_type": "execute_result"
    }
   ],
   "source": [
    "preprocess(text, stemming='fps5')"
   ]
  },
  {
   "cell_type": "code",
   "execution_count": 7,
   "metadata": {},
   "outputs": [
    {
     "data": {
      "text/plain": [
       "['hgs',\n",
       " 'ihlalli',\n",
       " 'ihlali',\n",
       " 'geçişle',\n",
       " 'sorgula',\n",
       " 'belirti',\n",
       " 'ihlali',\n",
       " 'geçişle',\n",
       " '5',\n",
       " 'tanesin',\n",
       " 'ihlali',\n",
       " 'ücretle',\n",
       " 'tutarla',\n",
       " 'görebil',\n",
       " 'hizmetl',\n",
       " 'hgs',\n",
       " 'kullanı',\n",
       " '15',\n",
       " 'ihlalle',\n",
       " 'bakiyey',\n",
       " 'yatırma',\n",
       " 'geçişle',\n",
       " 'cezaya',\n",
       " 'girmesi',\n",
       " 'önlenme',\n",
       " 'amaçlan']"
      ]
     },
     "execution_count": 7,
     "metadata": {},
     "output_type": "execute_result"
    }
   ],
   "source": [
    "preprocess(text, stemming='fps7')"
   ]
  },
  {
   "cell_type": "code",
   "execution_count": null,
   "metadata": {},
   "outputs": [],
   "source": []
  }
 ],
 "metadata": {
  "kernelspec": {
   "display_name": "Python 3",
   "language": "python",
   "name": "python3"
  },
  "language_info": {
   "codemirror_mode": {
    "name": "ipython",
    "version": 3
   },
   "file_extension": ".py",
   "mimetype": "text/x-python",
   "name": "python",
   "nbconvert_exporter": "python",
   "pygments_lexer": "ipython3",
   "version": "3.8.6"
  }
 },
 "nbformat": 4,
 "nbformat_minor": 4
}
